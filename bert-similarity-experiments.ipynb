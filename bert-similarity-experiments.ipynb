{
 "cells": [
  {
   "cell_type": "code",
   "execution_count": 1,
   "metadata": {},
   "outputs": [],
   "source": [
    "from models import SentenceEmbedders, utils\n",
    "from models import experiments"
   ]
  },
  {
   "cell_type": "markdown",
   "metadata": {},
   "source": [
    "### Tests"
   ]
  },
  {
   "cell_type": "code",
   "execution_count": 3,
   "metadata": {},
   "outputs": [],
   "source": [
    "bert_tests = utils.load_pkl('bert-embeddings/bert_tests_allLayers_maxlen200.pkl')"
   ]
  },
  {
   "cell_type": "code",
   "execution_count": 4,
   "metadata": {},
   "outputs": [
    {
     "name": "stderr",
     "output_type": "stream",
     "text": [
      "Single layers: 100%|██████████| 4/4 [00:29<00:00,  7.34s/it]\n",
      "Strategies: 100%|██████████| 2/2 [00:32<00:00, 16.38s/it]\n"
     ]
    }
   ],
   "source": [
    "mc_experiment = experiments.ExperimentResult()\n",
    "df = experiments.run_similarity_experiments(mc_experiment,\n",
    "                                            bert_tests,\n",
    "                                            problem_type='multiple-choice',\n",
    "                                            strategy=['mean', 'max'], \n",
    "                                            single_layers=[i for i in range(3, 13, 3)],\n",
    "                                            layers=[(1, 3), (5, 6)])"
   ]
  },
  {
   "cell_type": "code",
   "execution_count": 5,
   "metadata": {},
   "outputs": [
    {
     "data": {
      "text/html": [
       "<div>\n",
       "<style scoped>\n",
       "    .dataframe tbody tr th:only-of-type {\n",
       "        vertical-align: middle;\n",
       "    }\n",
       "\n",
       "    .dataframe tbody tr th {\n",
       "        vertical-align: top;\n",
       "    }\n",
       "\n",
       "    .dataframe thead th {\n",
       "        text-align: right;\n",
       "    }\n",
       "</style>\n",
       "<table border=\"1\" class=\"dataframe\">\n",
       "  <thead>\n",
       "    <tr style=\"text-align: right;\">\n",
       "      <th></th>\n",
       "      <th>embeddings_model</th>\n",
       "      <th>layers</th>\n",
       "      <th>pooling</th>\n",
       "      <th>accuracy</th>\n",
       "      <th>f1</th>\n",
       "    </tr>\n",
       "  </thead>\n",
       "  <tbody>\n",
       "    <tr>\n",
       "      <th>0</th>\n",
       "      <td>bert-as-service</td>\n",
       "      <td>3</td>\n",
       "      <td>single_layer</td>\n",
       "      <td>0.297</td>\n",
       "      <td>0.296</td>\n",
       "    </tr>\n",
       "    <tr>\n",
       "      <th>1</th>\n",
       "      <td>bert-as-service</td>\n",
       "      <td>6</td>\n",
       "      <td>single_layer</td>\n",
       "      <td>0.300</td>\n",
       "      <td>0.299</td>\n",
       "    </tr>\n",
       "    <tr>\n",
       "      <th>2</th>\n",
       "      <td>bert-as-service</td>\n",
       "      <td>9</td>\n",
       "      <td>single_layer</td>\n",
       "      <td>0.280</td>\n",
       "      <td>0.280</td>\n",
       "    </tr>\n",
       "    <tr>\n",
       "      <th>3</th>\n",
       "      <td>bert-as-service</td>\n",
       "      <td>12</td>\n",
       "      <td>single_layer</td>\n",
       "      <td>0.296</td>\n",
       "      <td>0.296</td>\n",
       "    </tr>\n",
       "    <tr>\n",
       "      <th>4</th>\n",
       "      <td>bert-as-service</td>\n",
       "      <td>(1, 3)</td>\n",
       "      <td>mean</td>\n",
       "      <td>0.297</td>\n",
       "      <td>0.297</td>\n",
       "    </tr>\n",
       "    <tr>\n",
       "      <th>5</th>\n",
       "      <td>bert-as-service</td>\n",
       "      <td>(5, 6)</td>\n",
       "      <td>mean</td>\n",
       "      <td>0.300</td>\n",
       "      <td>0.300</td>\n",
       "    </tr>\n",
       "    <tr>\n",
       "      <th>6</th>\n",
       "      <td>bert-as-service</td>\n",
       "      <td>(1, 3)</td>\n",
       "      <td>max</td>\n",
       "      <td>0.300</td>\n",
       "      <td>0.300</td>\n",
       "    </tr>\n",
       "    <tr>\n",
       "      <th>7</th>\n",
       "      <td>bert-as-service</td>\n",
       "      <td>(5, 6)</td>\n",
       "      <td>max</td>\n",
       "      <td>0.296</td>\n",
       "      <td>0.296</td>\n",
       "    </tr>\n",
       "  </tbody>\n",
       "</table>\n",
       "</div>"
      ],
      "text/plain": [
       "  embeddings_model  layers       pooling  accuracy     f1\n",
       "0  bert-as-service       3  single_layer     0.297  0.296\n",
       "1  bert-as-service       6  single_layer     0.300  0.299\n",
       "2  bert-as-service       9  single_layer     0.280  0.280\n",
       "3  bert-as-service      12  single_layer     0.296  0.296\n",
       "4  bert-as-service  (1, 3)          mean     0.297  0.297\n",
       "5  bert-as-service  (5, 6)          mean     0.300  0.300\n",
       "6  bert-as-service  (1, 3)           max     0.300  0.300\n",
       "7  bert-as-service  (5, 6)           max     0.296  0.296"
      ]
     },
     "execution_count": 5,
     "metadata": {},
     "output_type": "execute_result"
    }
   ],
   "source": [
    "df"
   ]
  },
  {
   "cell_type": "markdown",
   "metadata": {},
   "source": [
    "### Paraphrase"
   ]
  },
  {
   "cell_type": "code",
   "execution_count": null,
   "metadata": {},
   "outputs": [],
   "source": [
    "bert_paraphrase = utils.load_pkl('bert-embeddings/bert_paraphrase_allLayers_maxlen200.pkl')"
   ]
  },
  {
   "cell_type": "code",
   "execution_count": null,
   "metadata": {},
   "outputs": [],
   "source": [
    "paraphrase_experiment = experiments.ExperimentResult()\n",
    "df = experiments.run_similarity_experiments(paraphrase_experiment,\n",
    "                                            bert_paraphrase,\n",
    "                                            problem_type='paraphrase',\n",
    "                                            strategy=['concat', 'mean', 'max', 'mean_max'], \n",
    "                                            single_layers=[i for i in range(1, 13)],\n",
    "                                            layers=[(1, 12), (1, 6), (7, 12), (1, 3), (4, 6), (6, 8), (9, 12)])"
   ]
  }
 ],
 "metadata": {
  "kernelspec": {
   "display_name": "Python 3",
   "language": "python",
   "name": "python3"
  },
  "language_info": {
   "codemirror_mode": {
    "name": "ipython",
    "version": 3
   },
   "file_extension": ".py",
   "mimetype": "text/x-python",
   "name": "python",
   "nbconvert_exporter": "python",
   "pygments_lexer": "ipython3",
   "version": "3.6.6"
  }
 },
 "nbformat": 4,
 "nbformat_minor": 2
}
