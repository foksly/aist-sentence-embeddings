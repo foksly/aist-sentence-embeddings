{
 "cells": [
  {
   "cell_type": "code",
   "execution_count": 1,
   "metadata": {},
   "outputs": [],
   "source": [
    "from models import SentenceEmbedders, utils\n",
    "from models import experiments"
   ]
  },
  {
   "cell_type": "markdown",
   "metadata": {},
   "source": [
    "### Tests"
   ]
  },
  {
   "cell_type": "code",
   "execution_count": 2,
   "metadata": {},
   "outputs": [],
   "source": [
    "elmo_tests_wiki = utils.load_pkl('elmo-embeddings/tests_elmo_wiki_default.pkl')\n",
    "elmo_tests_news = utils.load_pkl('elmo-embeddings/tests_elmo_news_default.pkl')\n",
    "elmo_tests_twitter = utils.load_pkl('elmo-embeddings/tests_elmo_twitter_default.pkl')\n"
   ]
  },
  {
   "cell_type": "code",
   "execution_count": 14,
   "metadata": {
    "scrolled": true
   },
   "outputs": [],
   "source": [
    "mc_experiment = experiments.ExperimentResult()\n",
    "df = experiments.run_inputs_experiments(mc_experiment,\n",
    "                                        [elmo_tests_wiki, elmo_tests_news, elmo_tests_twitter],\n",
    "                                        embeddings_models_names=['wiki', 'news', 'tests'],\n",
    "                                        embeddings_model='elmo',\n",
    "                                        classifier='CatBoost',\n",
    "                                        problem_type='multiple-choice')"
   ]
  },
  {
   "cell_type": "code",
   "execution_count": 4,
   "metadata": {},
   "outputs": [
    {
     "name": "stdout",
     "output_type": "stream",
     "text": [
      "index of the best accuracy score:  0\n",
      "index of the best f1:  0\n"
     ]
    }
   ],
   "source": [
    "print('index of the best accuracy score: ', df['accuracy'].idxmax())\n",
    "print('index of the best f1: ', df['f1'].idxmax())"
   ]
  },
  {
   "cell_type": "code",
   "execution_count": 5,
   "metadata": {},
   "outputs": [
    {
     "data": {
      "text/html": [
       "<div>\n",
       "<style scoped>\n",
       "    .dataframe tbody tr th:only-of-type {\n",
       "        vertical-align: middle;\n",
       "    }\n",
       "\n",
       "    .dataframe tbody tr th {\n",
       "        vertical-align: top;\n",
       "    }\n",
       "\n",
       "    .dataframe thead th {\n",
       "        text-align: right;\n",
       "    }\n",
       "</style>\n",
       "<table border=\"1\" class=\"dataframe\">\n",
       "  <thead>\n",
       "    <tr style=\"text-align: right;\">\n",
       "      <th></th>\n",
       "      <th>embeddings_model</th>\n",
       "      <th>accuracy</th>\n",
       "      <th>f1</th>\n",
       "    </tr>\n",
       "  </thead>\n",
       "  <tbody>\n",
       "    <tr>\n",
       "      <th>0</th>\n",
       "      <td>ELMo wiki</td>\n",
       "      <td>0.314</td>\n",
       "      <td>0.314</td>\n",
       "    </tr>\n",
       "    <tr>\n",
       "      <th>1</th>\n",
       "      <td>ELMo news</td>\n",
       "      <td>0.310</td>\n",
       "      <td>0.310</td>\n",
       "    </tr>\n",
       "    <tr>\n",
       "      <th>2</th>\n",
       "      <td>ELMo tests</td>\n",
       "      <td>0.314</td>\n",
       "      <td>0.314</td>\n",
       "    </tr>\n",
       "  </tbody>\n",
       "</table>\n",
       "</div>"
      ],
      "text/plain": [
       "  embeddings_model  accuracy     f1\n",
       "0        ELMo wiki     0.314  0.314\n",
       "1        ELMo news     0.310  0.310\n",
       "2       ELMo tests     0.314  0.314"
      ]
     },
     "execution_count": 5,
     "metadata": {},
     "output_type": "execute_result"
    }
   ],
   "source": [
    "df"
   ]
  },
  {
   "cell_type": "markdown",
   "metadata": {},
   "source": [
    "### News"
   ]
  },
  {
   "cell_type": "code",
   "execution_count": 6,
   "metadata": {},
   "outputs": [],
   "source": [
    "elmo_news_wiki = utils.load_pkl('elmo-embeddings/news_elmo_wiki_default.pkl')\n",
    "elmo_news_news = utils.load_pkl('elmo-embeddings/news_elmo_news_default.pkl')\n",
    "elmo_news_twitter = utils.load_pkl('elmo-embeddings/news_elmo_twitter_default.pkl')"
   ]
  },
  {
   "cell_type": "code",
   "execution_count": 15,
   "metadata": {},
   "outputs": [],
   "source": [
    "news_experiment = experiments.ExperimentResult()\n",
    "df = experiments.run_inputs_experiments(news_experiment,\n",
    "                                        [elmo_news_wiki, elmo_news_news, elmo_news_twitter],\n",
    "                                        embeddings_models_names=['wiki', 'news', 'tests'],\n",
    "                                        embeddings_model='elmo',\n",
    "                                        classifier='CatBoost',\n",
    "                                        problem_type='multiple-choice')"
   ]
  },
  {
   "cell_type": "code",
   "execution_count": 8,
   "metadata": {},
   "outputs": [
    {
     "name": "stdout",
     "output_type": "stream",
     "text": [
      "index of the best accuracy score:  1\n",
      "index of the best f1:  1\n"
     ]
    }
   ],
   "source": [
    "print('index of the best accuracy score: ', df['accuracy'].idxmax())\n",
    "print('index of the best f1: ', df['f1'].idxmax())"
   ]
  },
  {
   "cell_type": "code",
   "execution_count": 9,
   "metadata": {},
   "outputs": [
    {
     "data": {
      "text/html": [
       "<div>\n",
       "<style scoped>\n",
       "    .dataframe tbody tr th:only-of-type {\n",
       "        vertical-align: middle;\n",
       "    }\n",
       "\n",
       "    .dataframe tbody tr th {\n",
       "        vertical-align: top;\n",
       "    }\n",
       "\n",
       "    .dataframe thead th {\n",
       "        text-align: right;\n",
       "    }\n",
       "</style>\n",
       "<table border=\"1\" class=\"dataframe\">\n",
       "  <thead>\n",
       "    <tr style=\"text-align: right;\">\n",
       "      <th></th>\n",
       "      <th>embeddings_model</th>\n",
       "      <th>accuracy</th>\n",
       "      <th>f1</th>\n",
       "    </tr>\n",
       "  </thead>\n",
       "  <tbody>\n",
       "    <tr>\n",
       "      <th>0</th>\n",
       "      <td>ELMo wiki</td>\n",
       "      <td>0.647</td>\n",
       "      <td>0.647</td>\n",
       "    </tr>\n",
       "    <tr>\n",
       "      <th>1</th>\n",
       "      <td>ELMo news</td>\n",
       "      <td>0.669</td>\n",
       "      <td>0.669</td>\n",
       "    </tr>\n",
       "    <tr>\n",
       "      <th>2</th>\n",
       "      <td>ELMo tests</td>\n",
       "      <td>0.631</td>\n",
       "      <td>0.631</td>\n",
       "    </tr>\n",
       "  </tbody>\n",
       "</table>\n",
       "</div>"
      ],
      "text/plain": [
       "  embeddings_model  accuracy     f1\n",
       "0        ELMo wiki     0.647  0.647\n",
       "1        ELMo news     0.669  0.669\n",
       "2       ELMo tests     0.631  0.631"
      ]
     },
     "execution_count": 9,
     "metadata": {},
     "output_type": "execute_result"
    }
   ],
   "source": [
    "df"
   ]
  },
  {
   "cell_type": "markdown",
   "metadata": {},
   "source": [
    "### Paraphrase"
   ]
  },
  {
   "cell_type": "code",
   "execution_count": 10,
   "metadata": {},
   "outputs": [],
   "source": [
    "elmo_paraphrase_wiki = utils.load_pkl('elmo-embeddings/paraphrase_elmo_wiki_default.pkl')\n",
    "elmo_paraphrase_news = utils.load_pkl('elmo-embeddings/paraphrase_elmo_news_default.pkl')\n",
    "elmo_paraphrase_twitter = utils.load_pkl('elmo-embeddings/paraphrase_elmo_twitter_default.pkl')"
   ]
  },
  {
   "cell_type": "code",
   "execution_count": 16,
   "metadata": {},
   "outputs": [],
   "source": [
    "paraphrase_experiment = experiments.ExperimentResult()\n",
    "df = experiments.run_inputs_experiments(paraphrase_experiment,\n",
    "                                        [elmo_paraphrase_wiki, elmo_paraphrase_news, elmo_paraphrase_twitter],\n",
    "                                        embeddings_models_names=['wiki', 'news', 'tests'],\n",
    "                                        embeddings_model='elmo',\n",
    "                                        classifier='CatBoost',\n",
    "                                        problem_type='paraphrase')"
   ]
  },
  {
   "cell_type": "code",
   "execution_count": 12,
   "metadata": {},
   "outputs": [
    {
     "name": "stdout",
     "output_type": "stream",
     "text": [
      "index of the best accuracy score:  1\n",
      "index of the best f1:  1\n"
     ]
    }
   ],
   "source": [
    "print('index of the best accuracy score: ', df['accuracy'].idxmax())\n",
    "print('index of the best f1: ', df['f1'].idxmax())"
   ]
  },
  {
   "cell_type": "code",
   "execution_count": 13,
   "metadata": {},
   "outputs": [
    {
     "data": {
      "text/html": [
       "<div>\n",
       "<style scoped>\n",
       "    .dataframe tbody tr th:only-of-type {\n",
       "        vertical-align: middle;\n",
       "    }\n",
       "\n",
       "    .dataframe tbody tr th {\n",
       "        vertical-align: top;\n",
       "    }\n",
       "\n",
       "    .dataframe thead th {\n",
       "        text-align: right;\n",
       "    }\n",
       "</style>\n",
       "<table border=\"1\" class=\"dataframe\">\n",
       "  <thead>\n",
       "    <tr style=\"text-align: right;\">\n",
       "      <th></th>\n",
       "      <th>embeddings_model</th>\n",
       "      <th>accuracy</th>\n",
       "      <th>f1</th>\n",
       "    </tr>\n",
       "  </thead>\n",
       "  <tbody>\n",
       "    <tr>\n",
       "      <th>0</th>\n",
       "      <td>ELMo wiki</td>\n",
       "      <td>0.773</td>\n",
       "      <td>0.729</td>\n",
       "    </tr>\n",
       "    <tr>\n",
       "      <th>1</th>\n",
       "      <td>ELMo news</td>\n",
       "      <td>0.797</td>\n",
       "      <td>0.758</td>\n",
       "    </tr>\n",
       "    <tr>\n",
       "      <th>2</th>\n",
       "      <td>ELMo tests</td>\n",
       "      <td>0.779</td>\n",
       "      <td>0.741</td>\n",
       "    </tr>\n",
       "  </tbody>\n",
       "</table>\n",
       "</div>"
      ],
      "text/plain": [
       "  embeddings_model  accuracy     f1\n",
       "0        ELMo wiki     0.773  0.729\n",
       "1        ELMo news     0.797  0.758\n",
       "2       ELMo tests     0.779  0.741"
      ]
     },
     "execution_count": 13,
     "metadata": {},
     "output_type": "execute_result"
    }
   ],
   "source": [
    "df"
   ]
  }
 ],
 "metadata": {
  "kernelspec": {
   "display_name": "Python 3",
   "language": "python",
   "name": "python3"
  },
  "language_info": {
   "codemirror_mode": {
    "name": "ipython",
    "version": 3
   },
   "file_extension": ".py",
   "mimetype": "text/x-python",
   "name": "python",
   "nbconvert_exporter": "python",
   "pygments_lexer": "ipython3",
   "version": "3.6.6"
  }
 },
 "nbformat": 4,
 "nbformat_minor": 2
}
