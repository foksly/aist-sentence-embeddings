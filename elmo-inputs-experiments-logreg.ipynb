{
 "cells": [
  {
   "cell_type": "code",
   "execution_count": 1,
   "metadata": {},
   "outputs": [],
   "source": [
    "from models import SentenceEmbedders, utils\n",
    "from models import experiments"
   ]
  },
  {
   "cell_type": "markdown",
   "metadata": {},
   "source": [
    "### Tests"
   ]
  },
  {
   "cell_type": "code",
   "execution_count": 2,
   "metadata": {},
   "outputs": [],
   "source": [
    "elmo_tests_wiki = utils.load_pkl('elmo-embeddings/tests_elmo_wiki_default.pkl')\n",
    "elmo_tests_news = utils.load_pkl('elmo-embeddings/tests_elmo_news_default.pkl')\n",
    "elmo_tests_twitter = utils.load_pkl('elmo-embeddings/tests_elmo_twitter_default.pkl')\n"
   ]
  },
  {
   "cell_type": "code",
   "execution_count": 3,
   "metadata": {
    "scrolled": true
   },
   "outputs": [
    {
     "name": "stderr",
     "output_type": "stream",
     "text": [
      "ELMo domains: 100%|██████████| 3/3 [05:25<00:00, 108.65s/it]\n"
     ]
    }
   ],
   "source": [
    "mc_experiment = experiments.ExperimentResult()\n",
    "df = experiments.run_inputs_experiments(mc_experiment,\n",
    "                                        [elmo_tests_wiki, elmo_tests_news, elmo_tests_twitter],\n",
    "                                        embeddings_models_names=['wiki', 'news', 'tests'],\n",
    "                                        embeddings_model='elmo',\n",
    "                                        classifier='LogReg',\n",
    "                                        problem_type='multiple-choice')"
   ]
  },
  {
   "cell_type": "code",
   "execution_count": 4,
   "metadata": {},
   "outputs": [
    {
     "name": "stdout",
     "output_type": "stream",
     "text": [
      "index of the best accuracy score:  1\n",
      "index of the best f1:  1\n"
     ]
    }
   ],
   "source": [
    "print('index of the best accuracy score: ', df['accuracy'].idxmax())\n",
    "print('index of the best f1: ', df['f1'].idxmax())"
   ]
  },
  {
   "cell_type": "code",
   "execution_count": 5,
   "metadata": {},
   "outputs": [
    {
     "data": {
      "text/html": [
       "<div>\n",
       "<style scoped>\n",
       "    .dataframe tbody tr th:only-of-type {\n",
       "        vertical-align: middle;\n",
       "    }\n",
       "\n",
       "    .dataframe tbody tr th {\n",
       "        vertical-align: top;\n",
       "    }\n",
       "\n",
       "    .dataframe thead th {\n",
       "        text-align: right;\n",
       "    }\n",
       "</style>\n",
       "<table border=\"1\" class=\"dataframe\">\n",
       "  <thead>\n",
       "    <tr style=\"text-align: right;\">\n",
       "      <th></th>\n",
       "      <th>embeddings_model</th>\n",
       "      <th>accuracy</th>\n",
       "      <th>f1</th>\n",
       "    </tr>\n",
       "  </thead>\n",
       "  <tbody>\n",
       "    <tr>\n",
       "      <th>0</th>\n",
       "      <td>ELMo wiki</td>\n",
       "      <td>0.301</td>\n",
       "      <td>0.300</td>\n",
       "    </tr>\n",
       "    <tr>\n",
       "      <th>1</th>\n",
       "      <td>ELMo news</td>\n",
       "      <td>0.318</td>\n",
       "      <td>0.318</td>\n",
       "    </tr>\n",
       "    <tr>\n",
       "      <th>2</th>\n",
       "      <td>ELMo tests</td>\n",
       "      <td>0.317</td>\n",
       "      <td>0.316</td>\n",
       "    </tr>\n",
       "  </tbody>\n",
       "</table>\n",
       "</div>"
      ],
      "text/plain": [
       "  embeddings_model  accuracy     f1\n",
       "0        ELMo wiki     0.301  0.300\n",
       "1        ELMo news     0.318  0.318\n",
       "2       ELMo tests     0.317  0.316"
      ]
     },
     "execution_count": 5,
     "metadata": {},
     "output_type": "execute_result"
    }
   ],
   "source": [
    "df"
   ]
  },
  {
   "cell_type": "markdown",
   "metadata": {},
   "source": [
    "### News"
   ]
  },
  {
   "cell_type": "code",
   "execution_count": 6,
   "metadata": {},
   "outputs": [],
   "source": [
    "elmo_news_wiki = utils.load_pkl('elmo-embeddings/news_elmo_wiki_default.pkl')\n",
    "elmo_news_news = utils.load_pkl('elmo-embeddings/news_elmo_news_default.pkl')\n",
    "elmo_news_twitter = utils.load_pkl('elmo-embeddings/news_elmo_twitter_default.pkl')"
   ]
  },
  {
   "cell_type": "code",
   "execution_count": 7,
   "metadata": {},
   "outputs": [
    {
     "name": "stderr",
     "output_type": "stream",
     "text": [
      "ELMo domains: 100%|██████████| 3/3 [30:06<00:00, 602.30s/it]\n"
     ]
    }
   ],
   "source": [
    "news_experiment = experiments.ExperimentResult()\n",
    "df = experiments.run_inputs_experiments(news_experiment,\n",
    "                                        [elmo_news_wiki, elmo_news_news, elmo_news_twitter],\n",
    "                                        embeddings_models_names=['wiki', 'news', 'tests'],\n",
    "                                        embeddings_model='elmo',\n",
    "                                        classifier='LogReg',\n",
    "                                        problem_type='multiple-choice')"
   ]
  },
  {
   "cell_type": "code",
   "execution_count": 8,
   "metadata": {},
   "outputs": [
    {
     "name": "stdout",
     "output_type": "stream",
     "text": [
      "index of the best accuracy score:  2\n",
      "index of the best f1:  2\n"
     ]
    }
   ],
   "source": [
    "print('index of the best accuracy score: ', df['accuracy'].idxmax())\n",
    "print('index of the best f1: ', df['f1'].idxmax())"
   ]
  },
  {
   "cell_type": "code",
   "execution_count": 9,
   "metadata": {},
   "outputs": [
    {
     "data": {
      "text/html": [
       "<div>\n",
       "<style scoped>\n",
       "    .dataframe tbody tr th:only-of-type {\n",
       "        vertical-align: middle;\n",
       "    }\n",
       "\n",
       "    .dataframe tbody tr th {\n",
       "        vertical-align: top;\n",
       "    }\n",
       "\n",
       "    .dataframe thead th {\n",
       "        text-align: right;\n",
       "    }\n",
       "</style>\n",
       "<table border=\"1\" class=\"dataframe\">\n",
       "  <thead>\n",
       "    <tr style=\"text-align: right;\">\n",
       "      <th></th>\n",
       "      <th>embeddings_model</th>\n",
       "      <th>accuracy</th>\n",
       "      <th>f1</th>\n",
       "    </tr>\n",
       "  </thead>\n",
       "  <tbody>\n",
       "    <tr>\n",
       "      <th>0</th>\n",
       "      <td>ELMo wiki</td>\n",
       "      <td>0.249</td>\n",
       "      <td>0.249</td>\n",
       "    </tr>\n",
       "    <tr>\n",
       "      <th>1</th>\n",
       "      <td>ELMo news</td>\n",
       "      <td>0.249</td>\n",
       "      <td>0.249</td>\n",
       "    </tr>\n",
       "    <tr>\n",
       "      <th>2</th>\n",
       "      <td>ELMo tests</td>\n",
       "      <td>0.250</td>\n",
       "      <td>0.250</td>\n",
       "    </tr>\n",
       "  </tbody>\n",
       "</table>\n",
       "</div>"
      ],
      "text/plain": [
       "  embeddings_model  accuracy     f1\n",
       "0        ELMo wiki     0.249  0.249\n",
       "1        ELMo news     0.249  0.249\n",
       "2       ELMo tests     0.250  0.250"
      ]
     },
     "execution_count": 9,
     "metadata": {},
     "output_type": "execute_result"
    }
   ],
   "source": [
    "df"
   ]
  },
  {
   "cell_type": "markdown",
   "metadata": {},
   "source": [
    "### Paraphrase"
   ]
  },
  {
   "cell_type": "code",
   "execution_count": 12,
   "metadata": {},
   "outputs": [],
   "source": [
    "elmo_paraphrase_wiki = utils.load_pkl('elmo-embeddings/paraphrase_elmo_wiki_default.pkl')\n",
    "elmo_paraphrase_news = utils.load_pkl('elmo-embeddings/paraphrase_elmo_news_default.pkl')\n",
    "elmo_paraphrase_twitter = utils.load_pkl('elmo-embeddings/paraphrase_elmo_twitter_default.pkl')"
   ]
  },
  {
   "cell_type": "code",
   "execution_count": 13,
   "metadata": {},
   "outputs": [
    {
     "name": "stderr",
     "output_type": "stream",
     "text": [
      "ELMo domains: 100%|██████████| 3/3 [00:45<00:00, 15.07s/it]\n"
     ]
    }
   ],
   "source": [
    "paraphrase_experiment = experiments.ExperimentResult()\n",
    "df = experiments.run_inputs_experiments(paraphrase_experiment,\n",
    "                                        [elmo_paraphrase_wiki, elmo_paraphrase_news, elmo_paraphrase_twitter],\n",
    "                                        embeddings_models_names=['wiki', 'news', 'tests'],\n",
    "                                        embeddings_model='elmo',\n",
    "                                        classifier='LogReg',\n",
    "                                        problem_type='paraphrase')"
   ]
  },
  {
   "cell_type": "code",
   "execution_count": 14,
   "metadata": {},
   "outputs": [
    {
     "name": "stdout",
     "output_type": "stream",
     "text": [
      "index of the best accuracy score:  2\n",
      "index of the best f1:  2\n"
     ]
    }
   ],
   "source": [
    "print('index of the best accuracy score: ', df['accuracy'].idxmax())\n",
    "print('index of the best f1: ', df['f1'].idxmax())"
   ]
  },
  {
   "cell_type": "code",
   "execution_count": 15,
   "metadata": {},
   "outputs": [
    {
     "data": {
      "text/html": [
       "<div>\n",
       "<style scoped>\n",
       "    .dataframe tbody tr th:only-of-type {\n",
       "        vertical-align: middle;\n",
       "    }\n",
       "\n",
       "    .dataframe tbody tr th {\n",
       "        vertical-align: top;\n",
       "    }\n",
       "\n",
       "    .dataframe thead th {\n",
       "        text-align: right;\n",
       "    }\n",
       "</style>\n",
       "<table border=\"1\" class=\"dataframe\">\n",
       "  <thead>\n",
       "    <tr style=\"text-align: right;\">\n",
       "      <th></th>\n",
       "      <th>embeddings_model</th>\n",
       "      <th>accuracy</th>\n",
       "      <th>f1</th>\n",
       "    </tr>\n",
       "  </thead>\n",
       "  <tbody>\n",
       "    <tr>\n",
       "      <th>0</th>\n",
       "      <td>ELMo wiki</td>\n",
       "      <td>0.684</td>\n",
       "      <td>0.652</td>\n",
       "    </tr>\n",
       "    <tr>\n",
       "      <th>1</th>\n",
       "      <td>ELMo news</td>\n",
       "      <td>0.702</td>\n",
       "      <td>0.668</td>\n",
       "    </tr>\n",
       "    <tr>\n",
       "      <th>2</th>\n",
       "      <td>ELMo tests</td>\n",
       "      <td>0.705</td>\n",
       "      <td>0.674</td>\n",
       "    </tr>\n",
       "  </tbody>\n",
       "</table>\n",
       "</div>"
      ],
      "text/plain": [
       "  embeddings_model  accuracy     f1\n",
       "0        ELMo wiki     0.684  0.652\n",
       "1        ELMo news     0.702  0.668\n",
       "2       ELMo tests     0.705  0.674"
      ]
     },
     "execution_count": 15,
     "metadata": {},
     "output_type": "execute_result"
    }
   ],
   "source": [
    "df"
   ]
  }
 ],
 "metadata": {
  "kernelspec": {
   "display_name": "Python 3",
   "language": "python",
   "name": "python3"
  },
  "language_info": {
   "codemirror_mode": {
    "name": "ipython",
    "version": 3
   },
   "file_extension": ".py",
   "mimetype": "text/x-python",
   "name": "python",
   "nbconvert_exporter": "python",
   "pygments_lexer": "ipython3",
   "version": "3.6.6"
  }
 },
 "nbformat": 4,
 "nbformat_minor": 2
}
