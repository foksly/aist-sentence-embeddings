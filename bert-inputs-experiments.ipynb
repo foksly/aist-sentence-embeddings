{
 "cells": [
  {
   "cell_type": "code",
   "execution_count": 1,
   "metadata": {},
   "outputs": [],
   "source": [
    "from models import SentenceEmbedders, utils\n",
    "from models import experiments"
   ]
  },
  {
   "cell_type": "markdown",
   "metadata": {},
   "source": [
    "### Tests"
   ]
  },
  {
   "cell_type": "code",
   "execution_count": 2,
   "metadata": {},
   "outputs": [],
   "source": [
    "bert_tests = utils.load_pkl('bert-embeddings/bert_tests_allLayers_maxlen200.pkl')"
   ]
  },
  {
   "cell_type": "code",
   "execution_count": 4,
   "metadata": {
    "scrolled": true
   },
   "outputs": [
    {
     "name": "stderr",
     "output_type": "stream",
     "text": [
      "\r",
      "Single layers:   0%|          | 0/4 [00:00<?, ?it/s]"
     ]
    },
    {
     "name": "stdout",
     "output_type": "stream",
     "text": [
      "Learning rate set to 0.5\n",
      "0:\tlearn: 0.5908012\ttotal: 190ms\tremaining: 1.71s\n",
      "1:\tlearn: 0.5659350\ttotal: 341ms\tremaining: 1.36s\n",
      "2:\tlearn: 0.5591182\ttotal: 492ms\tremaining: 1.15s\n",
      "3:\tlearn: 0.5562447\ttotal: 644ms\tremaining: 965ms\n",
      "4:\tlearn: 0.5545608\ttotal: 815ms\tremaining: 815ms\n",
      "5:\tlearn: 0.5532354\ttotal: 949ms\tremaining: 632ms\n",
      "6:\tlearn: 0.5522251\ttotal: 1.08s\tremaining: 465ms\n",
      "7:\tlearn: 0.5509066\ttotal: 1.24s\tremaining: 310ms\n",
      "8:\tlearn: 0.5500488\ttotal: 1.39s\tremaining: 154ms\n",
      "9:\tlearn: 0.5494682\ttotal: 1.52s\tremaining: 0us\n"
     ]
    },
    {
     "name": "stderr",
     "output_type": "stream",
     "text": [
      "\r",
      "Single layers:  25%|██▌       | 1/4 [00:21<01:04, 21.36s/it]"
     ]
    },
    {
     "name": "stdout",
     "output_type": "stream",
     "text": [
      "Learning rate set to 0.5\n",
      "0:\tlearn: 0.5904713\ttotal: 180ms\tremaining: 1.62s\n",
      "1:\tlearn: 0.5660120\ttotal: 324ms\tremaining: 1.3s\n",
      "2:\tlearn: 0.5587828\ttotal: 482ms\tremaining: 1.12s\n",
      "3:\tlearn: 0.5559033\ttotal: 640ms\tremaining: 960ms\n",
      "4:\tlearn: 0.5540033\ttotal: 796ms\tremaining: 796ms\n",
      "5:\tlearn: 0.5528272\ttotal: 948ms\tremaining: 632ms\n",
      "6:\tlearn: 0.5515942\ttotal: 1.09s\tremaining: 468ms\n",
      "7:\tlearn: 0.5502883\ttotal: 1.24s\tremaining: 311ms\n",
      "8:\tlearn: 0.5491427\ttotal: 1.37s\tremaining: 153ms\n",
      "9:\tlearn: 0.5480540\ttotal: 1.52s\tremaining: 0us\n"
     ]
    },
    {
     "name": "stderr",
     "output_type": "stream",
     "text": [
      "\r",
      "Single layers:  50%|█████     | 2/4 [00:42<00:42, 21.20s/it]"
     ]
    },
    {
     "name": "stdout",
     "output_type": "stream",
     "text": [
      "Learning rate set to 0.5\n",
      "0:\tlearn: 0.5907652\ttotal: 144ms\tremaining: 1.3s\n",
      "1:\tlearn: 0.5658606\ttotal: 281ms\tremaining: 1.12s\n",
      "2:\tlearn: 0.5586154\ttotal: 445ms\tremaining: 1.04s\n",
      "3:\tlearn: 0.5560847\ttotal: 597ms\tremaining: 895ms\n",
      "4:\tlearn: 0.5541646\ttotal: 753ms\tremaining: 753ms\n",
      "5:\tlearn: 0.5529383\ttotal: 893ms\tremaining: 595ms\n",
      "6:\tlearn: 0.5521678\ttotal: 1.03s\tremaining: 441ms\n",
      "7:\tlearn: 0.5508309\ttotal: 1.18s\tremaining: 295ms\n",
      "8:\tlearn: 0.5491630\ttotal: 1.33s\tremaining: 148ms\n",
      "9:\tlearn: 0.5482411\ttotal: 1.48s\tremaining: 0us\n"
     ]
    },
    {
     "name": "stderr",
     "output_type": "stream",
     "text": [
      "\r",
      "Single layers:  75%|███████▌  | 3/4 [01:03<00:21, 21.23s/it]"
     ]
    },
    {
     "name": "stdout",
     "output_type": "stream",
     "text": [
      "Learning rate set to 0.5\n",
      "0:\tlearn: 0.5917512\ttotal: 152ms\tremaining: 1.36s\n",
      "1:\tlearn: 0.5673786\ttotal: 292ms\tremaining: 1.17s\n",
      "2:\tlearn: 0.5601031\ttotal: 436ms\tremaining: 1.02s\n",
      "3:\tlearn: 0.5568001\ttotal: 585ms\tremaining: 877ms\n",
      "4:\tlearn: 0.5547814\ttotal: 733ms\tremaining: 733ms\n",
      "5:\tlearn: 0.5531301\ttotal: 883ms\tremaining: 589ms\n",
      "6:\tlearn: 0.5514915\ttotal: 1.05s\tremaining: 450ms\n",
      "7:\tlearn: 0.5504390\ttotal: 1.2s\tremaining: 300ms\n",
      "8:\tlearn: 0.5493391\ttotal: 1.35s\tremaining: 150ms\n",
      "9:\tlearn: 0.5484758\ttotal: 1.49s\tremaining: 0us\n"
     ]
    },
    {
     "name": "stderr",
     "output_type": "stream",
     "text": [
      "Single layers: 100%|██████████| 4/4 [01:24<00:00, 21.18s/it]\n",
      "Strategies:   0%|          | 0/2 [00:00<?, ?it/s]"
     ]
    },
    {
     "name": "stdout",
     "output_type": "stream",
     "text": [
      "Learning rate set to 0.5\n",
      "0:\tlearn: 0.5911381\ttotal: 186ms\tremaining: 1.68s\n",
      "1:\tlearn: 0.5659930\ttotal: 364ms\tremaining: 1.46s\n",
      "2:\tlearn: 0.5588751\ttotal: 516ms\tremaining: 1.2s\n",
      "3:\tlearn: 0.5565715\ttotal: 675ms\tremaining: 1.01s\n",
      "4:\tlearn: 0.5548061\ttotal: 833ms\tremaining: 833ms\n",
      "5:\tlearn: 0.5531341\ttotal: 976ms\tremaining: 651ms\n",
      "6:\tlearn: 0.5520507\ttotal: 1.12s\tremaining: 481ms\n",
      "7:\tlearn: 0.5507821\ttotal: 1.28s\tremaining: 320ms\n",
      "8:\tlearn: 0.5501570\ttotal: 1.41s\tremaining: 157ms\n",
      "9:\tlearn: 0.5491123\ttotal: 1.56s\tremaining: 0us\n",
      "Learning rate set to 0.5\n",
      "0:\tlearn: 0.5910622\ttotal: 149ms\tremaining: 1.34s\n",
      "1:\tlearn: 0.5658891\ttotal: 277ms\tremaining: 1.11s\n",
      "2:\tlearn: 0.5593534\ttotal: 419ms\tremaining: 977ms\n",
      "3:\tlearn: 0.5566979\ttotal: 588ms\tremaining: 882ms\n",
      "4:\tlearn: 0.5547466\ttotal: 740ms\tremaining: 740ms\n",
      "5:\tlearn: 0.5531179\ttotal: 883ms\tremaining: 589ms\n",
      "6:\tlearn: 0.5514771\ttotal: 1.04s\tremaining: 445ms\n",
      "7:\tlearn: 0.5499509\ttotal: 1.19s\tremaining: 297ms\n",
      "8:\tlearn: 0.5492341\ttotal: 1.33s\tremaining: 147ms\n",
      "9:\tlearn: 0.5483513\ttotal: 1.47s\tremaining: 0us\n"
     ]
    },
    {
     "name": "stderr",
     "output_type": "stream",
     "text": [
      "\r",
      "Strategies:  50%|█████     | 1/2 [00:42<00:42, 42.03s/it]"
     ]
    },
    {
     "name": "stdout",
     "output_type": "stream",
     "text": [
      "Learning rate set to 0.5\n",
      "0:\tlearn: 0.5899502\ttotal: 149ms\tremaining: 1.34s\n",
      "1:\tlearn: 0.5652948\ttotal: 281ms\tremaining: 1.12s\n",
      "2:\tlearn: 0.5584405\ttotal: 422ms\tremaining: 984ms\n",
      "3:\tlearn: 0.5558171\ttotal: 576ms\tremaining: 863ms\n",
      "4:\tlearn: 0.5538674\ttotal: 743ms\tremaining: 743ms\n",
      "5:\tlearn: 0.5521363\ttotal: 899ms\tremaining: 599ms\n",
      "6:\tlearn: 0.5512851\ttotal: 1.03s\tremaining: 442ms\n",
      "7:\tlearn: 0.5502397\ttotal: 1.18s\tremaining: 294ms\n",
      "8:\tlearn: 0.5488488\ttotal: 1.3s\tremaining: 144ms\n",
      "9:\tlearn: 0.5477294\ttotal: 1.44s\tremaining: 0us\n",
      "Learning rate set to 0.5\n",
      "0:\tlearn: 0.5909710\ttotal: 199ms\tremaining: 1.79s\n",
      "1:\tlearn: 0.5660013\ttotal: 353ms\tremaining: 1.41s\n",
      "2:\tlearn: 0.5594521\ttotal: 505ms\tremaining: 1.18s\n",
      "3:\tlearn: 0.5567706\ttotal: 652ms\tremaining: 978ms\n",
      "4:\tlearn: 0.5551572\ttotal: 800ms\tremaining: 800ms\n",
      "5:\tlearn: 0.5537893\ttotal: 933ms\tremaining: 622ms\n",
      "6:\tlearn: 0.5526420\ttotal: 1.08s\tremaining: 464ms\n",
      "7:\tlearn: 0.5513182\ttotal: 1.24s\tremaining: 310ms\n",
      "8:\tlearn: 0.5503637\ttotal: 1.39s\tremaining: 155ms\n",
      "9:\tlearn: 0.5495698\ttotal: 1.54s\tremaining: 0us\n"
     ]
    },
    {
     "name": "stderr",
     "output_type": "stream",
     "text": [
      "Strategies: 100%|██████████| 2/2 [01:23<00:00, 41.93s/it]\n"
     ]
    }
   ],
   "source": [
    "mc_experiment = experiments.ExperimentResult(log = ['embeddings_model', \n",
    "                                                    'classifier',\n",
    "                                                    'layers', \n",
    "                                                    'pooling', \n",
    "                                                    'accuracy', \n",
    "                                                    'f1'])\n",
    "df = experiments.run_inputs_experiments(mc_experiment,\n",
    "                                        bert_tests,\n",
    "                                        classifier='CatBoost',\n",
    "                                        classifier_params={'iterations': 10, \n",
    "                                                           'task_type': 'GPU'},\n",
    "                                        problem_type='multiple-choice',\n",
    "                                        strategy=['mean', 'max'], \n",
    "                                        single_layers=[i for i in range(3, 13, 3)],\n",
    "                                        layers=[(1, 3), (5, 6)])"
   ]
  },
  {
   "cell_type": "code",
   "execution_count": 5,
   "metadata": {},
   "outputs": [
    {
     "data": {
      "text/html": [
       "<div>\n",
       "<style scoped>\n",
       "    .dataframe tbody tr th:only-of-type {\n",
       "        vertical-align: middle;\n",
       "    }\n",
       "\n",
       "    .dataframe tbody tr th {\n",
       "        vertical-align: top;\n",
       "    }\n",
       "\n",
       "    .dataframe thead th {\n",
       "        text-align: right;\n",
       "    }\n",
       "</style>\n",
       "<table border=\"1\" class=\"dataframe\">\n",
       "  <thead>\n",
       "    <tr style=\"text-align: right;\">\n",
       "      <th></th>\n",
       "      <th>embeddings_model</th>\n",
       "      <th>classifier</th>\n",
       "      <th>layers</th>\n",
       "      <th>pooling</th>\n",
       "      <th>accuracy</th>\n",
       "      <th>f1</th>\n",
       "    </tr>\n",
       "  </thead>\n",
       "  <tbody>\n",
       "    <tr>\n",
       "      <th>0</th>\n",
       "      <td>bert-as-service</td>\n",
       "      <td>CatBoost</td>\n",
       "      <td>3</td>\n",
       "      <td>single_layer</td>\n",
       "      <td>0.301</td>\n",
       "      <td>0.301</td>\n",
       "    </tr>\n",
       "    <tr>\n",
       "      <th>1</th>\n",
       "      <td>bert-as-service</td>\n",
       "      <td>CatBoost</td>\n",
       "      <td>6</td>\n",
       "      <td>single_layer</td>\n",
       "      <td>0.310</td>\n",
       "      <td>0.310</td>\n",
       "    </tr>\n",
       "    <tr>\n",
       "      <th>2</th>\n",
       "      <td>bert-as-service</td>\n",
       "      <td>CatBoost</td>\n",
       "      <td>9</td>\n",
       "      <td>single_layer</td>\n",
       "      <td>0.299</td>\n",
       "      <td>0.299</td>\n",
       "    </tr>\n",
       "    <tr>\n",
       "      <th>3</th>\n",
       "      <td>bert-as-service</td>\n",
       "      <td>CatBoost</td>\n",
       "      <td>12</td>\n",
       "      <td>single_layer</td>\n",
       "      <td>0.295</td>\n",
       "      <td>0.295</td>\n",
       "    </tr>\n",
       "    <tr>\n",
       "      <th>4</th>\n",
       "      <td>bert-as-service</td>\n",
       "      <td>CatBoost</td>\n",
       "      <td>(1, 3)</td>\n",
       "      <td>mean</td>\n",
       "      <td>0.313</td>\n",
       "      <td>0.313</td>\n",
       "    </tr>\n",
       "    <tr>\n",
       "      <th>5</th>\n",
       "      <td>bert-as-service</td>\n",
       "      <td>CatBoost</td>\n",
       "      <td>(5, 6)</td>\n",
       "      <td>mean</td>\n",
       "      <td>0.311</td>\n",
       "      <td>0.311</td>\n",
       "    </tr>\n",
       "    <tr>\n",
       "      <th>6</th>\n",
       "      <td>bert-as-service</td>\n",
       "      <td>CatBoost</td>\n",
       "      <td>(1, 3)</td>\n",
       "      <td>max</td>\n",
       "      <td>0.318</td>\n",
       "      <td>0.317</td>\n",
       "    </tr>\n",
       "    <tr>\n",
       "      <th>7</th>\n",
       "      <td>bert-as-service</td>\n",
       "      <td>CatBoost</td>\n",
       "      <td>(5, 6)</td>\n",
       "      <td>max</td>\n",
       "      <td>0.312</td>\n",
       "      <td>0.312</td>\n",
       "    </tr>\n",
       "  </tbody>\n",
       "</table>\n",
       "</div>"
      ],
      "text/plain": [
       "  embeddings_model classifier  layers       pooling  accuracy     f1\n",
       "0  bert-as-service   CatBoost       3  single_layer     0.301  0.301\n",
       "1  bert-as-service   CatBoost       6  single_layer     0.310  0.310\n",
       "2  bert-as-service   CatBoost       9  single_layer     0.299  0.299\n",
       "3  bert-as-service   CatBoost      12  single_layer     0.295  0.295\n",
       "4  bert-as-service   CatBoost  (1, 3)          mean     0.313  0.313\n",
       "5  bert-as-service   CatBoost  (5, 6)          mean     0.311  0.311\n",
       "6  bert-as-service   CatBoost  (1, 3)           max     0.318  0.317\n",
       "7  bert-as-service   CatBoost  (5, 6)           max     0.312  0.312"
      ]
     },
     "execution_count": 5,
     "metadata": {},
     "output_type": "execute_result"
    }
   ],
   "source": [
    "df"
   ]
  },
  {
   "cell_type": "markdown",
   "metadata": {},
   "source": [
    "### Paraphrase"
   ]
  },
  {
   "cell_type": "code",
   "execution_count": 7,
   "metadata": {},
   "outputs": [],
   "source": [
    "bert_paraphrase = utils.load_pkl('bert-embeddings/bert_paraphrase_allLayers_maxlen200.pkl')"
   ]
  },
  {
   "cell_type": "code",
   "execution_count": 8,
   "metadata": {},
   "outputs": [
    {
     "name": "stderr",
     "output_type": "stream",
     "text": [
      "Single layers: 100%|██████████| 4/4 [00:24<00:00,  6.09s/it]\n",
      "Strategies: 100%|██████████| 2/2 [00:23<00:00, 11.76s/it]\n"
     ]
    }
   ],
   "source": [
    "paraphrase_experiment = experiments.ExperimentResult(log = ['embeddings_model', \n",
    "                                                            'classifier',\n",
    "                                                            'layers', \n",
    "                                                            'pooling', \n",
    "                                                            'accuracy', \n",
    "                                                            'f1'])\n",
    "df = experiments.run_inputs_experiments(paraphrase_experiment,\n",
    "                                        bert_paraphrase,\n",
    "                                        classifier='LogReg',\n",
    "                                        problem_type='paraphrase',\n",
    "                                        strategy=['mean', 'max'], \n",
    "                                        single_layers=[i for i in range(3, 13, 3)],\n",
    "                                        layers=[(1, 3), (5, 6)])"
   ]
  },
  {
   "cell_type": "code",
   "execution_count": 9,
   "metadata": {},
   "outputs": [
    {
     "data": {
      "text/html": [
       "<div>\n",
       "<style scoped>\n",
       "    .dataframe tbody tr th:only-of-type {\n",
       "        vertical-align: middle;\n",
       "    }\n",
       "\n",
       "    .dataframe tbody tr th {\n",
       "        vertical-align: top;\n",
       "    }\n",
       "\n",
       "    .dataframe thead th {\n",
       "        text-align: right;\n",
       "    }\n",
       "</style>\n",
       "<table border=\"1\" class=\"dataframe\">\n",
       "  <thead>\n",
       "    <tr style=\"text-align: right;\">\n",
       "      <th></th>\n",
       "      <th>embeddings_model</th>\n",
       "      <th>classifier</th>\n",
       "      <th>layers</th>\n",
       "      <th>pooling</th>\n",
       "      <th>accuracy</th>\n",
       "      <th>f1</th>\n",
       "    </tr>\n",
       "  </thead>\n",
       "  <tbody>\n",
       "    <tr>\n",
       "      <th>0</th>\n",
       "      <td>bert-as-service</td>\n",
       "      <td>LogReg</td>\n",
       "      <td>3</td>\n",
       "      <td>single_layer</td>\n",
       "      <td>0.676</td>\n",
       "      <td>0.627</td>\n",
       "    </tr>\n",
       "    <tr>\n",
       "      <th>1</th>\n",
       "      <td>bert-as-service</td>\n",
       "      <td>LogReg</td>\n",
       "      <td>6</td>\n",
       "      <td>single_layer</td>\n",
       "      <td>0.699</td>\n",
       "      <td>0.660</td>\n",
       "    </tr>\n",
       "    <tr>\n",
       "      <th>2</th>\n",
       "      <td>bert-as-service</td>\n",
       "      <td>LogReg</td>\n",
       "      <td>9</td>\n",
       "      <td>single_layer</td>\n",
       "      <td>0.704</td>\n",
       "      <td>0.666</td>\n",
       "    </tr>\n",
       "    <tr>\n",
       "      <th>3</th>\n",
       "      <td>bert-as-service</td>\n",
       "      <td>LogReg</td>\n",
       "      <td>12</td>\n",
       "      <td>single_layer</td>\n",
       "      <td>0.704</td>\n",
       "      <td>0.664</td>\n",
       "    </tr>\n",
       "    <tr>\n",
       "      <th>4</th>\n",
       "      <td>bert-as-service</td>\n",
       "      <td>LogReg</td>\n",
       "      <td>(1, 3)</td>\n",
       "      <td>mean</td>\n",
       "      <td>0.672</td>\n",
       "      <td>0.621</td>\n",
       "    </tr>\n",
       "    <tr>\n",
       "      <th>5</th>\n",
       "      <td>bert-as-service</td>\n",
       "      <td>LogReg</td>\n",
       "      <td>(5, 6)</td>\n",
       "      <td>mean</td>\n",
       "      <td>0.691</td>\n",
       "      <td>0.648</td>\n",
       "    </tr>\n",
       "    <tr>\n",
       "      <th>6</th>\n",
       "      <td>bert-as-service</td>\n",
       "      <td>LogReg</td>\n",
       "      <td>(1, 3)</td>\n",
       "      <td>max</td>\n",
       "      <td>0.682</td>\n",
       "      <td>0.635</td>\n",
       "    </tr>\n",
       "    <tr>\n",
       "      <th>7</th>\n",
       "      <td>bert-as-service</td>\n",
       "      <td>LogReg</td>\n",
       "      <td>(5, 6)</td>\n",
       "      <td>max</td>\n",
       "      <td>0.699</td>\n",
       "      <td>0.656</td>\n",
       "    </tr>\n",
       "  </tbody>\n",
       "</table>\n",
       "</div>"
      ],
      "text/plain": [
       "  embeddings_model classifier  layers       pooling  accuracy     f1\n",
       "0  bert-as-service     LogReg       3  single_layer     0.676  0.627\n",
       "1  bert-as-service     LogReg       6  single_layer     0.699  0.660\n",
       "2  bert-as-service     LogReg       9  single_layer     0.704  0.666\n",
       "3  bert-as-service     LogReg      12  single_layer     0.704  0.664\n",
       "4  bert-as-service     LogReg  (1, 3)          mean     0.672  0.621\n",
       "5  bert-as-service     LogReg  (5, 6)          mean     0.691  0.648\n",
       "6  bert-as-service     LogReg  (1, 3)           max     0.682  0.635\n",
       "7  bert-as-service     LogReg  (5, 6)           max     0.699  0.656"
      ]
     },
     "execution_count": 9,
     "metadata": {},
     "output_type": "execute_result"
    }
   ],
   "source": [
    "df"
   ]
  },
  {
   "cell_type": "code",
   "execution_count": null,
   "metadata": {},
   "outputs": [],
   "source": []
  }
 ],
 "metadata": {
  "kernelspec": {
   "display_name": "Python 3",
   "language": "python",
   "name": "python3"
  },
  "language_info": {
   "codemirror_mode": {
    "name": "ipython",
    "version": 3
   },
   "file_extension": ".py",
   "mimetype": "text/x-python",
   "name": "python",
   "nbconvert_exporter": "python",
   "pygments_lexer": "ipython3",
   "version": "3.6.6"
  }
 },
 "nbformat": 4,
 "nbformat_minor": 2
}
